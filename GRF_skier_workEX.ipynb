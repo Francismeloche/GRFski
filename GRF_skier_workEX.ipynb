{
 "cells": [
  {
   "cell_type": "code",
   "execution_count": 3,
   "id": "876eedc0-20df-4e2f-a3f5-39155ced35af",
   "metadata": {},
   "outputs": [
    {
     "ename": "ModuleNotFoundError",
     "evalue": "No module named 'gstools'",
     "output_type": "error",
     "traceback": [
      "\u001b[0;31m---------------------------------------------------------------------------\u001b[0m",
      "\u001b[0;31mModuleNotFoundError\u001b[0m                       Traceback (most recent call last)",
      "Cell \u001b[0;32mIn[3], line 4\u001b[0m\n\u001b[1;32m      2\u001b[0m \u001b[38;5;28;01mimport\u001b[39;00m \u001b[38;5;21;01mpandas\u001b[39;00m \u001b[38;5;28;01mas\u001b[39;00m \u001b[38;5;21;01mpd\u001b[39;00m\n\u001b[1;32m      3\u001b[0m \u001b[38;5;66;03m#import seaborn as sns\u001b[39;00m\n\u001b[0;32m----> 4\u001b[0m \u001b[38;5;28;01mimport\u001b[39;00m \u001b[38;5;21;01mGRFski\u001b[39;00m\n",
      "File \u001b[0;32m~/Documents/programmation/python/DAMPM/GRFski.py:28\u001b[0m\n\u001b[1;32m      3\u001b[0m \u001b[38;5;124;03m'''\u001b[39;00m\n\u001b[1;32m      4\u001b[0m \u001b[38;5;124;03mCreated June 10th 2022\u001b[39;00m\n\u001b[1;32m      5\u001b[0m \u001b[38;5;124;03mModified December 18th 2024\u001b[39;00m\n\u001b[0;32m   (...)\u001b[0m\n\u001b[1;32m     25\u001b[0m \n\u001b[1;32m     26\u001b[0m \u001b[38;5;124;03m'''\u001b[39;00m\n\u001b[1;32m     27\u001b[0m \u001b[38;5;28;01mimport\u001b[39;00m \u001b[38;5;21;01mnumpy\u001b[39;00m \u001b[38;5;28;01mas\u001b[39;00m \u001b[38;5;21;01mnp\u001b[39;00m\n\u001b[0;32m---> 28\u001b[0m \u001b[38;5;28;01mimport\u001b[39;00m \u001b[38;5;21;01mgstools\u001b[39;00m \u001b[38;5;28;01mas\u001b[39;00m \u001b[38;5;21;01mgs\u001b[39;00m\n\u001b[1;32m     30\u001b[0m \u001b[38;5;28;01mfrom\u001b[39;00m \u001b[38;5;21;01mnumba\u001b[39;00m \u001b[38;5;28;01mimport\u001b[39;00m njit,prange,jit,config \u001b[38;5;66;03m# important for parallelisation of the code\u001b[39;00m\n\u001b[1;32m     33\u001b[0m \u001b[38;5;28;01mdef\u001b[39;00m \u001b[38;5;21mSk_index\u001b[39m(Ac,lsk):\n",
      "\u001b[0;31mModuleNotFoundError\u001b[0m: No module named 'gstools'"
     ]
    }
   ],
   "source": [
    "import matplotlib.pyplot as plt\n",
    "import pandas as pd\n",
    "import seaborn as sns\n",
    "import GRFski as gski"
   ]
  },
  {
   "cell_type": "markdown",
   "id": "ca910745-8f4f-4b5b-b70b-b4838031a3f3",
   "metadata": {},
   "source": [
    "## Example using only one realisation of the GRF and plot it"
   ]
  },
  {
   "cell_type": "code",
   "execution_count": null,
   "id": "6fe9c267-c454-43bb-9564-839bb484b75b",
   "metadata": {},
   "outputs": [],
   "source": [
    "H_trans,p_grid,E_slab,thau,Tp,Ac = gski.gen_GRF2d_arr_pslab(10,0.8,0.0075,20)\n",
    "lsk_grid,Sp_grid = gski.lsk_ongrid2(H_trans,thau,Tp,Ac)\n",
    "skieur_grid,proba_trigger = gski.skieur_proba(Sp_grid,20,10,10)\n",
    "\n",
    "plt.rcParams[\"font.family\"] = \"serif\"\n",
    "fig,((ax1,ax2),(ax3,ax4),(ax5,ax6)) = plt.subplots(ncols = 2,nrows = 3, figsize = (9,7),sharex=True, sharey=True, constrained_layout = True)\n",
    "fig.supxlabel(\"Distance cross-slope (m)\", fontsize = 18)\n",
    "fig.supylabel(\"Distance upslope (m)\", fontsize = 18)\n",
    "#fig.suptitle('Numerical simulation of skier triggering on a heterogenous snowpack', fontsize = 18)\n",
    "\n",
    "p1 = ax1.imshow(H_trans, interpolation='none',cmap = \"viridis\", extent = [0,100,0,50])\n",
    "plt.colorbar(p1,ax=ax1)\n",
    "ax1.set_title(\"Slab depth (m)\", fontsize = 14)\n",
    "\n",
    "p2 = ax2.imshow(Tp, interpolation='none', cmap = \"viridis\", extent = [0,100,0,50])\n",
    "plt.colorbar(p2,ax=ax2)\n",
    "ax2.set_title(\"Shear strength (Pa)\", fontsize = 14)\n",
    "\n",
    "p3 = ax3.imshow(lsk_grid, interpolation='none', cmap = \"viridis\", extent = [0,100,0,50])\n",
    "plt.colorbar(p3,ax=ax3)\n",
    "ax3.set_title(\"Skier crack length $l_{sk}$ (m)\", fontsize = 14)\n",
    "\n",
    "p4 = ax4.imshow(Ac, interpolation='none', cmap = \"viridis\", extent = [0,100,0,50])\n",
    "plt.colorbar(p4,ax=ax4)\n",
    "ax4.set_title(\"Critical crack length $A_c$ (m)\", fontsize = 14)\n",
    "\n",
    "p5 = ax5.imshow(Sp_grid, interpolation='none', cmap = \"Spectral\", extent = [0,100,0,50])\n",
    "plt.colorbar(p5,ax=ax5)\n",
    "ax5.set_title(\"Skier propagation index SPI\", fontsize = 14)\n",
    "\n",
    "p6 = ax6.imshow(skieur_grid, interpolation='none', extent = [0,100,0,50])\n",
    "plt.colorbar(p6,ax=ax6)\n",
    "ax6.set_title(\"Skier tracks with SPI\", fontsize = 14)\n",
    "\n",
    "\n",
    "#plt.savefig(\"GRF_real.eps\", dpi=100)\n"
   ]
  },
  {
   "cell_type": "markdown",
   "id": "8a2532ac-719e-401a-8ded-ceb06a6418ac",
   "metadata": {},
   "source": [
    "## Create a list of the parameter we need to test \n",
    "    1) Mean slab depth\n",
    "    2) Correlation length\n",
    "    3) Slab depth variance\n",
    "    4) Space between skier\n",
    "    5) Skier radius"
   ]
  },
  {
   "cell_type": "code",
   "execution_count": 6,
   "id": "c01a1cd9-6e6e-425d-938d-74e7502c963d",
   "metadata": {},
   "outputs": [
    {
     "name": "stdout",
     "output_type": "stream",
     "text": [
      "mean: 0.7  variance: 0.0025  correlation length: 5  radius skieur: 5  space_skieur: 10\n",
      "mean: 0.7  variance: 0.0025  correlation length: 5  radius skieur: 10  space_skieur: 10\n",
      "mean: 0.7  variance: 0.0025  correlation length: 5  radius skieur: 15  space_skieur: 10\n",
      "mean: 0.7  variance: 0.0025  correlation length: 5  radius skieur: 20  space_skieur: 10\n",
      "mean: 0.7  variance: 0.0025  correlation length: 5  radius skieur: 25  space_skieur: 10\n",
      "mean: 0.7  variance: 0.0025  correlation length: 5  radius skieur: 30  space_skieur: 10\n",
      "mean: 0.7  variance: 0.0025  correlation length: 5  radius skieur: 35  space_skieur: 10\n",
      "mean: 0.7  variance: 0.0025  correlation length: 5  radius skieur: 40  space_skieur: 10\n",
      "mean: 0.7  variance: 0.0025  correlation length: 10  radius skieur: 5  space_skieur: 10\n",
      "mean: 0.7  variance: 0.0025  correlation length: 10  radius skieur: 10  space_skieur: 10\n",
      "mean: 0.7  variance: 0.0025  correlation length: 10  radius skieur: 15  space_skieur: 10\n",
      "mean: 0.7  variance: 0.0025  correlation length: 10  radius skieur: 20  space_skieur: 10\n",
      "mean: 0.7  variance: 0.0025  correlation length: 10  radius skieur: 25  space_skieur: 10\n",
      "mean: 0.7  variance: 0.0025  correlation length: 10  radius skieur: 30  space_skieur: 10\n",
      "mean: 0.7  variance: 0.0025  correlation length: 10  radius skieur: 35  space_skieur: 10\n",
      "mean: 0.7  variance: 0.0025  correlation length: 10  radius skieur: 40  space_skieur: 10\n",
      "mean: 0.7  variance: 0.0025  correlation length: 15  radius skieur: 5  space_skieur: 10\n",
      "mean: 0.7  variance: 0.0025  correlation length: 15  radius skieur: 10  space_skieur: 10\n",
      "mean: 0.7  variance: 0.0025  correlation length: 15  radius skieur: 15  space_skieur: 10\n",
      "mean: 0.7  variance: 0.0025  correlation length: 15  radius skieur: 20  space_skieur: 10\n",
      "mean: 0.7  variance: 0.0025  correlation length: 15  radius skieur: 25  space_skieur: 10\n",
      "mean: 0.7  variance: 0.0025  correlation length: 15  radius skieur: 30  space_skieur: 10\n",
      "mean: 0.7  variance: 0.0025  correlation length: 15  radius skieur: 35  space_skieur: 10\n",
      "mean: 0.7  variance: 0.0025  correlation length: 15  radius skieur: 40  space_skieur: 10\n",
      "mean: 0.7  variance: 0.0025  correlation length: 20  radius skieur: 5  space_skieur: 10\n",
      "mean: 0.7  variance: 0.0025  correlation length: 20  radius skieur: 10  space_skieur: 10\n",
      "mean: 0.7  variance: 0.0025  correlation length: 20  radius skieur: 15  space_skieur: 10\n",
      "mean: 0.7  variance: 0.0025  correlation length: 20  radius skieur: 20  space_skieur: 10\n",
      "mean: 0.7  variance: 0.0025  correlation length: 20  radius skieur: 25  space_skieur: 10\n",
      "mean: 0.7  variance: 0.0025  correlation length: 20  radius skieur: 30  space_skieur: 10\n",
      "mean: 0.7  variance: 0.0025  correlation length: 20  radius skieur: 35  space_skieur: 10\n",
      "mean: 0.7  variance: 0.0025  correlation length: 20  radius skieur: 40  space_skieur: 10\n",
      "mean: 0.7  variance: 0.0025  correlation length: 25  radius skieur: 5  space_skieur: 10\n",
      "mean: 0.7  variance: 0.0025  correlation length: 25  radius skieur: 10  space_skieur: 10\n",
      "mean: 0.7  variance: 0.0025  correlation length: 25  radius skieur: 15  space_skieur: 10\n",
      "mean: 0.7  variance: 0.0025  correlation length: 25  radius skieur: 20  space_skieur: 10\n",
      "mean: 0.7  variance: 0.0025  correlation length: 25  radius skieur: 25  space_skieur: 10\n",
      "mean: 0.7  variance: 0.0025  correlation length: 25  radius skieur: 30  space_skieur: 10\n",
      "mean: 0.7  variance: 0.0025  correlation length: 25  radius skieur: 35  space_skieur: 10\n",
      "mean: 0.7  variance: 0.0025  correlation length: 25  radius skieur: 40  space_skieur: 10\n",
      "mean: 0.7  variance: 0.0025  correlation length: 30  radius skieur: 5  space_skieur: 10\n",
      "mean: 0.7  variance: 0.0025  correlation length: 30  radius skieur: 10  space_skieur: 10\n",
      "mean: 0.7  variance: 0.0025  correlation length: 30  radius skieur: 15  space_skieur: 10\n",
      "mean: 0.7  variance: 0.0025  correlation length: 30  radius skieur: 20  space_skieur: 10\n",
      "mean: 0.7  variance: 0.0025  correlation length: 30  radius skieur: 25  space_skieur: 10\n",
      "mean: 0.7  variance: 0.0025  correlation length: 30  radius skieur: 30  space_skieur: 10\n",
      "mean: 0.7  variance: 0.0025  correlation length: 30  radius skieur: 35  space_skieur: 10\n",
      "mean: 0.7  variance: 0.0025  correlation length: 30  radius skieur: 40  space_skieur: 10\n",
      "48\n"
     ]
    }
   ],
   "source": [
    "mean_values = [0.7]\n",
    "var_values = [0.0025]\n",
    "lenscale_values = [5,10,15,20,25,30]\n",
    "space_values = [10]\n",
    "radius_values = [5,10,15,20,25,30,35,40]\n",
    "ens_set2 = []\n",
    "for m in mean_values:\n",
    "    for v in var_values:\n",
    "        for l in lenscale_values:\n",
    "            for s in space_values:\n",
    "                for r in radius_values:\n",
    "                    l_radius_ratio = l/r\n",
    "                    l_space_ratio = l/s\n",
    "                    print(\"mean:\", m, \" variance:\", v, \" correlation length:\",l, \" radius skieur:\", r, \" space_skieur:\",s)\n",
    "                    set_var = [m,v,l,r,s,l_radius_ratio, l_space_ratio]\n",
    "                    ens_set2.append(set_var)\n",
    "print(len(ens_set2))"
   ]
  },
  {
   "cell_type": "markdown",
   "id": "5d0fd188-b6e4-406d-8397-0488d2d330f8",
   "metadata": {},
   "source": [
    "# Run the skier simulation with 10 realisations \n",
    "Ideally 100 is better but it depends on computing time"
   ]
  },
  {
   "cell_type": "code",
   "execution_count": null,
   "id": "94033998-5d68-4106-9ce2-ee5446654747",
   "metadata": {},
   "outputs": [],
   "source": [
    "%%time\n",
    "distribution_probaGRF,m_std_probaGRF = gski.gen_probaskieur_multireal(ens_set2,10)"
   ]
  },
  {
   "cell_type": "code",
   "execution_count": null,
   "id": "a630435b-6572-45e2-a4a5-c871e057f9d9",
   "metadata": {},
   "outputs": [],
   "source": [
    "#Convert to a pandas dataframe\n",
    "mstd_proba_PD = pd.DataFrame.from_dict(m_std_probaGRF, orient = \"index\",\n",
    "                                       columns = [\"mean_slab\",\"var_slab\",\"lscale_slab\",\"Rayon_skieur\",\"Space_skieur\",\"Nb_skieur\",\"l_rayon_ratio\",\"l_space_ratio\",\"mean_proba\",\"std_proba\"])\n",
    "mstd_proba_PD"
   ]
  },
  {
   "cell_type": "markdown",
   "id": "7fa14821-a156-4b61-88ab-e7e8fd1e299f",
   "metadata": {},
   "source": [
    "# Adding skier from a safe track until trigger\n",
    "    1) Random\n",
    "    2) Structure"
   ]
  },
  {
   "cell_type": "code",
   "execution_count": null,
   "id": "4dba945b-51a3-406c-9e64-31f168500245",
   "metadata": {},
   "outputs": [],
   "source": [
    "%%time\n",
    "H_trans,p_grid,E_slab,thau,Tp,Ac = gski.gen_GRF2d_arr_pslab(4,0.9,0.0075,10)\n",
    "lsk_grid,Sp_grid = gski.lsk_ongrid2(H_trans,thau,Tp,Ac)\n",
    "\n",
    "random_position_sk1 = np.random.uniform(50,1900)\n",
    "print(random_position_sk1)\n",
    "skieur_grid_struct,nb_skieur = gski.skieur_addgroup_struct(Sp_grid,5,10,random_position_sk1)\n",
    "skieur_grid_alea, nbskier_alea = gski.skieur_addgroup_alea(Sp_grid,5,10,random_position_sk1)\n",
    "\n",
    "plt.imshow(H_trans, interpolation='none')\n",
    "plt.colorbar()\n",
    "plt.show()\n",
    "\n",
    "plt.imshow(Sp_grid, interpolation='none', cmap = \"Spectral\")\n",
    "plt.colorbar()\n",
    "plt.clim(0,2)\n",
    "plt.show()\n",
    "\n",
    "#plt.imshow(skieur_grid_struct, interpolation='none')\n",
    "#plt.colorbar()\n",
    "#plt.clim(0,2)\n",
    "#plt.show\n",
    "\n",
    "plt.imshow(skieur_grid_alea, interpolation='none')\n",
    "plt.colorbar()\n",
    "plt.clim(0,2)\n",
    "plt.show\n",
    "\n",
    "print(nb_skieur)\n",
    "print(nbskier_alea)\n",
    "\n",
    "plt.rcParams[\"font.family\"] = \"serif\"\n",
    "fig,(ax1,ax2) = plt.subplots(ncols = 2,nrows = 1, figsize = (13,4),sharex=True, sharey=True, constrained_layout = True)\n",
    "fig.supxlabel(\" distance cross-slope (m)\", fontsize = 18)\n",
    "fig.supylabel(\"distance up-slope (m)\", fontsize =18)\n",
    "\n",
    "p1 = ax1.imshow(skieur_grid_struct, interpolation='none',cmap = \"viridis\", extent = [0,200,0,100])\n",
    "#cbar 1 = plt.colorbar(p1,ax=ax1)\n",
    "#ax1.set_title(\"Structured additional skier\", fontsize = 20)\n",
    "ax1.tick_params(axis='both', which='major', labelsize=14)\n",
    "\n",
    "\n",
    "p2 = ax2.imshow(skieur_grid_alea, interpolation='none',cmap = \"viridis\", extent = [0,200,0,100])\n",
    "cbar = plt.colorbar(p2,ax=ax2)\n",
    "#ax2.set_title(\"Random additional skier\", fontsize = 20)\n",
    "ax2.tick_params(axis='both', which='major', labelsize=14)\n",
    "\n",
    "cbar.ax.tick_params(labelsize=14)\n",
    "\n",
    "fig.savefig('random_additional_skier.jpg', dpi=300)"
   ]
  },
  {
   "cell_type": "markdown",
   "id": "36af479e-f389-419f-8cae-3dbcd6158faf",
   "metadata": {},
   "source": [
    "## Example for correlation length of 20 m"
   ]
  },
  {
   "cell_type": "code",
   "execution_count": null,
   "id": "5ed08a4f-803f-459a-a15f-c47e95c06109",
   "metadata": {},
   "outputs": [],
   "source": [
    "%%time\n",
    "\n",
    "# Example for a corrleation length 0f 20\n",
    "nbskier_struct_dict_20 = {}\n",
    "nbskier_alea_dict_20 = {}\n",
    "\n",
    "lscale = 20\n",
    "meanslab = 0.7\n",
    "varslab = 0.005\n",
    "space_skier = 5\n",
    "radius_skier = 10\n",
    "for real in range(0,100,1):\n",
    "    H_trans,p_grid,E_slab,thau,Tp,Ac = gski.gen_GRF2d_arr_pslab(real,meanslab,varslab,lscale)\n",
    "\n",
    "    nbskier_struct_list = []\n",
    "    nbskier_alea_list = []\n",
    "    for i in range(0,100,1):\n",
    "        random_position_sk1 = np.random.uniform(50,1900)\n",
    "        lsk_grid,Sp_grid = gski.lsk_ongrid2(H_trans,thau,Tp,Ac)\n",
    "\n",
    "        skieur_grid_struct, nbskier_struct = gski.skieur_addgroup_struct(Sp_grid,space_skier,radius_skier,random_position_sk1)\n",
    "        if nbskier_struct in range(1,49,1): # stop the process after 50 skier\n",
    "            nbskier_struct_list.append(nbskier_struct)\n",
    "\n",
    "\n",
    "        skieur_grid_alea, nbskier_alea = gski.skieur_addgroup_alea(Sp_grid,space_skier,radius_skier,random_position_sk1)\n",
    "        if nbskier_alea in range(1,49,1): # stop the process after 50 skier\n",
    "            nbskier_alea_list.append(nbskier_alea)\n",
    "\n",
    "    nbskier_struct_dict_20.update({str(real):np.array(nbskier_struct_list)})\n",
    "    nbskier_alea_dict_20.update({str(real):np.array(nbskier_alea_list)})\n",
    "  "
   ]
  }
 ],
 "metadata": {
  "kernelspec": {
   "display_name": "Python 3 (ipykernel)",
   "language": "python",
   "name": "python3"
  },
  "language_info": {
   "codemirror_mode": {
    "name": "ipython",
    "version": 3
   },
   "file_extension": ".py",
   "mimetype": "text/x-python",
   "name": "python",
   "nbconvert_exporter": "python",
   "pygments_lexer": "ipython3",
   "version": "3.12.7"
  }
 },
 "nbformat": 4,
 "nbformat_minor": 5
}
